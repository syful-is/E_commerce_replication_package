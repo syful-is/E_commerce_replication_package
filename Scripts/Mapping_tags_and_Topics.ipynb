{
 "cells": [
  {
   "cell_type": "code",
   "execution_count": 4,
   "metadata": {},
   "outputs": [
    {
     "data": {
      "text/plain": [
       "114949"
      ]
     },
     "execution_count": 4,
     "metadata": {},
     "output_type": "execute_result"
    }
   ],
   "source": [
    "import pandas as pd\n",
    "import os\n",
    "os.chdir(\"F:/1_NAIST_Research_SE/SE_meeting/Ecommerce/\")\n",
    "df=pd.read_csv(\"RQ1_ecommerce_version_1.csv\")\n",
    "df1=pd.read_csv(\"keyword_mapping_custom.csv\")\n",
    "len(df)"
   ]
  },
  {
   "cell_type": "code",
   "execution_count": 3,
   "metadata": {},
   "outputs": [
    {
     "data": {
      "text/plain": [
       "Index(['Document_No', 'Dominant_Topic', 'Topic_Perc_Contrib', 'Keywords',\n",
       "       'Text'],\n",
       "      dtype='object')"
      ]
     },
     "execution_count": 3,
     "metadata": {},
     "output_type": "execute_result"
    }
   ],
   "source": [
    "df.columns"
   ]
  },
  {
   "cell_type": "code",
   "execution_count": 5,
   "metadata": {},
   "outputs": [
    {
     "data": {
      "text/plain": [
       "Index(['Topic', 'Main Category', 'Theme', 'new_Topic', 'LDA Topic Name',\n",
       "       'LDA suggested Keywords', 'number_per_topic', 'score_mean', 'view_mean',\n",
       "       'FavCount_mean', 'AnsCount_mean', 'AccpAnsCount_avg',\n",
       "       'CommentCount_mean'],\n",
       "      dtype='object')"
      ]
     },
     "execution_count": 5,
     "metadata": {},
     "output_type": "execute_result"
    }
   ],
   "source": [
    "df1.columns"
   ]
  },
  {
   "cell_type": "code",
   "execution_count": 13,
   "metadata": {},
   "outputs": [],
   "source": [
    "new_topic=[]\n",
    "old_topic=[]\n",
    "theme=[]\n",
    "theme_id=[]\n",
    "topic_name=[]\n",
    "\n",
    "for i in range(0, len(df)):\n",
    "    for j in range(0, len(df1)):\n",
    "        if df1['Topic'][j]==df['Dominant_Topic'][i]:\n",
    "            old_topic.append(df['Dominant_Topic'][i])\n",
    "            new_topic.append(df1['new_Topic'][j])\n",
    "            theme.append(df1['Theme'][j])\n",
    "            theme_id.append(df1['Main Category'][j])\n",
    "            topic_name.append(df1['LDA Topic Name'][j])"
   ]
  },
  {
   "cell_type": "code",
   "execution_count": 14,
   "metadata": {},
   "outputs": [],
   "source": [
    "dict={'Old_topic':old_topic,'New_topic':new_topic, 'theme':theme, 'theme_id':theme_id, 'topic_name':topic_name}\n",
    "df3=pd.DataFrame(dict)\n",
    "df3.to_csv(\"Mapped_topic.csv\")"
   ]
  },
  {
   "cell_type": "code",
   "execution_count": 43,
   "metadata": {},
   "outputs": [
    {
     "name": "stderr",
     "output_type": "stream",
     "text": [
      "C:\\Users\\SE\\Anaconda3\\lib\\site-packages\\IPython\\core\\interactiveshell.py:3058: DtypeWarning: Columns (4) have mixed types. Specify dtype option on import or set low_memory=False.\n",
      "  interactivity=interactivity, compiler=compiler, result=result)\n"
     ]
    }
   ],
   "source": [
    "import pandas as pd\n",
    "import os\n",
    "import numpy as np\n",
    "\n",
    "os.chdir(\"F:/1_NAIST_Research_SE/SE_meeting/Ecommerce/modified/\")\n",
    "df=pd.read_csv(\"10_Ecommerce_final_posts.csv\")\n",
    "df1=pd.read_csv(\"Tagmapping.csv\")\n",
    "df2=pd.read_csv(\"Mapped_topic.csv\")\n",
    "#len(df)"
   ]
  },
  {
   "cell_type": "code",
   "execution_count": 34,
   "metadata": {},
   "outputs": [
    {
     "data": {
      "text/plain": [
       "Index(['AcceptedAnswerId', 'AnswerCount', 'Body', 'CommentCount',\n",
       "       'CommunityOwnedDate', 'CreationDate', 'FavoriteCount', 'Id',\n",
       "       'OwnerUserId', 'PostTypeId', 'Score', 'Tags', 'Title', 'ViewCount'],\n",
       "      dtype='object')"
      ]
     },
     "execution_count": 34,
     "metadata": {},
     "output_type": "execute_result"
    }
   ],
   "source": [
    "df.columns"
   ]
  },
  {
   "cell_type": "code",
   "execution_count": 36,
   "metadata": {},
   "outputs": [
    {
     "data": {
      "text/plain": [
       "Index(['tags', 'Programming', 'Business', 'Technology', 'Ecommerce',\n",
       "       'count_local', 'count', 'TRT', 'TST'],\n",
       "      dtype='object')"
      ]
     },
     "execution_count": 36,
     "metadata": {},
     "output_type": "execute_result"
    }
   ],
   "source": [
    "df1.columns"
   ]
  },
  {
   "cell_type": "code",
   "execution_count": 46,
   "metadata": {},
   "outputs": [
    {
     "data": {
      "text/plain": [
       "Index(['AcceptedAnswerId', 'AnswerCount', 'Body', 'CommentCount',\n",
       "       'CommunityOwnedDate', 'CreationDate', 'FavoriteCount', 'Id',\n",
       "       'OwnerUserId', 'PostTypeId', 'Score', 'Tags', 'Title', 'ViewCount'],\n",
       "      dtype='object')"
      ]
     },
     "execution_count": 46,
     "metadata": {},
     "output_type": "execute_result"
    }
   ],
   "source": [
    "df.columns"
   ]
  },
  {
   "cell_type": "code",
   "execution_count": 48,
   "metadata": {},
   "outputs": [],
   "source": [
    "import re\n",
    "import numpy as np\n",
    "import random\n",
    "\n",
    "tags=[]\n",
    "Programming=[]\n",
    "Business=[]\n",
    "Technology=[]\n",
    "Ecommerce=[]\n",
    "\n",
    "\n",
    "Filter_list=df1['tags']\n",
    "\n",
    "for i in range(0, len(df)):\n",
    "    line_tag=re.findall(r'\\<(.*?)\\>',df['Tags'][i])\n",
    "    \n",
    "    new_array = np.intersect1d(Filter_list, line_tag)\n",
    "    \n",
    "    stag=random.choice(new_array)\n",
    "    for j in range(0, len(df1)):\n",
    "        if stag==df1['tags'][j]:\n",
    "            tags.append(df1['tags'][j])\n",
    "            Programming.append(df1['Programming'][j])\n",
    "            Business.append(df1['Business'][j])\n",
    "            Technology.append(df1['Technology'][j])\n",
    "            Ecommerce.append(df1['Ecommerce'][j])\n",
    "            \n",
    "            \n",
    "dict={'tags':tags, 'Programming':Programming, 'Business':Business, 'Technology':Technology, 'Ecommerce':Ecommerce, 'Old_topic':df2['Old_topic'],'New_topic':df2['New_topic'], 'theme':df2['theme'],'theme_id':df2['theme_id'], 'topic_name':df2['topic_name'], 'Dominant_Topic':df2['Dominant_Topic'], 'Topic_Perc_Contrib':df2['Topic_Perc_Contrib'], 'Keywords':df2['Keywords'], 'AcceptedAnswerId':df['AcceptedAnswerId'], 'AnswerCount':df['AnswerCount'],'Body':df['Body'],'CommentCount':df['CommentCount'], 'CommunityOwnedDate':df['CommunityOwnedDate'],'CreationDate':df['CreationDate'],'FavoriteCount':df['FavoriteCount'], 'Id':df['Id'], 'OwnerUserId':df['OwnerUserId'], 'Score':df['Score'], 'Tags':df['Tags'],  'Title':df['Title'], 'ViewCount':df['ViewCount']        }\n",
    "df5=pd.DataFrame(dict)\n",
    "df5.to_csv(\"Mapped_ecommerce_post_dataset.csv\")"
   ]
  },
  {
   "cell_type": "code",
   "execution_count": 29,
   "metadata": {},
   "outputs": [
    {
     "data": {
      "text/plain": [
       "['E-commerce']"
      ]
     },
     "execution_count": 29,
     "metadata": {},
     "output_type": "execute_result"
    }
   ],
   "source": [
    "ecommerce"
   ]
  },
  {
   "cell_type": "code",
   "execution_count": null,
   "metadata": {},
   "outputs": [],
   "source": []
  }
 ],
 "metadata": {
  "kernelspec": {
   "display_name": "Python 3",
   "language": "python",
   "name": "python3"
  },
  "language_info": {
   "codemirror_mode": {
    "name": "ipython",
    "version": 3
   },
   "file_extension": ".py",
   "mimetype": "text/x-python",
   "name": "python",
   "nbconvert_exporter": "python",
   "pygments_lexer": "ipython3",
   "version": "3.7.4"
  }
 },
 "nbformat": 4,
 "nbformat_minor": 2
}
